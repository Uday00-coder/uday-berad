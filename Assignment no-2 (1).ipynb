{
 "cells": [
  {
   "cell_type": "code",
   "execution_count": 1,
   "id": "aa963231-be3b-4dee-a6f0-3b91c02fe025",
   "metadata": {},
   "outputs": [
    {
     "name": "stdin",
     "output_type": "stream",
     "text": [
      "Enter your annual CTC (in Lakhs):  210\n"
     ]
    },
    {
     "name": "stdout",
     "output_type": "stream",
     "text": [
      "Your monthly salary after deductions is: 10.04 Lakhs\n"
     ]
    }
   ],
   "source": [
    "\"\"\"Problem 1: Write a program that will give you in hand monthly salary after deduction on CTC - HRA(10%), DA(5%), PF(3%) and taxes deduction as below:\n",
    "Salary(Lakhs) : Tax(%)\n",
    "\n",
    "Below 5 : 0%\n",
    "5-10 : 10%\n",
    "10-20 : 20%\n",
    "aboove 20 : 30%\"\"\"\n",
    "\n",
    "def calculate_monthly_salary(ctc):\n",
    "    \n",
    "    hra_deduction = 0.1 * ctc\n",
    "    da_deduction = 0.05 * ctc\n",
    "    pf_deduction = 0.03 * ctc\n",
    "    total_deduction = hra_deduction + da_deduction + pf_deduction\n",
    "    \n",
    "\n",
    "    taxable_income = ctc - total_deduction\n",
    "    \n",
    "    if ctc <= 5:\n",
    "        tax_percentage = 0\n",
    "    elif ctc <= 10:\n",
    "        tax_percentage = 0.1\n",
    "    elif ctc <= 20:\n",
    "        tax_percentage = 0.2\n",
    "    else:\n",
    "        tax_percentage = 0.3\n",
    "    \n",
    "    tax_deduction = tax_percentage * taxable_income\n",
    "    \n",
    "    \n",
    "    annual_salary_after_tax = taxable_income - tax_deduction\n",
    "    monthly_salary_after_tax = annual_salary_after_tax / 12\n",
    "    \n",
    "    return monthly_salary_after_tax\n",
    "\n",
    "ctc = float(input(\"Enter your annual CTC (in Lakhs): \"))\n",
    "monthly_salary = calculate_monthly_salary(ctc)\n",
    "\n",
    "print(f\"Your monthly salary after deductions is: {monthly_salary:.2f} Lakhs\")\n"
   ]
  },
  {
   "cell_type": "code",
   "execution_count": 3,
   "id": "a4c2c9ab-e396-416d-8b7f-f24f6434eaeb",
   "metadata": {},
   "outputs": [
    {
     "name": "stdin",
     "output_type": "stream",
     "text": [
      "Enter the Triangle Side-1 : 20\n",
      "Enter the Triangle Side-2 : 40\n",
      "Enter the Triangle Side-3 : 100\n"
     ]
    },
    {
     "name": "stdout",
     "output_type": "stream",
     "text": [
      "Triangle Not Valid..\n"
     ]
    }
   ],
   "source": [
    "#Problem 2: Write a program that take a user input of three angles and will find out whether it can form a triangle or not.\n",
    "\n",
    "s1 = int(input(\"Enter the Triangle Side-1 :\"))\n",
    "s2 = int(input(\"Enter the Triangle Side-2 :\"))\n",
    "s3 = int(input(\"Enter the Triangle Side-3 :\"))\n",
    "sum = s1+s2+s3\n",
    "if(sum==180):\n",
    "\tprint(\"Triangle Valid..\")\n",
    "else:\n",
    "\tprint(\"Triangle Not Valid..\")\n"
   ]
  },
  {
   "cell_type": "code",
   "execution_count": 5,
   "id": "b6131774-caee-42a6-817d-34a06d6761fa",
   "metadata": {},
   "outputs": [
    {
     "name": "stdin",
     "output_type": "stream",
     "text": [
      "Enter the cost Price of an Item : 20\n",
      "Enter the Selling Price of an Item : 10\n"
     ]
    },
    {
     "name": "stdout",
     "output_type": "stream",
     "text": [
      "Loss : 10.0\n"
     ]
    }
   ],
   "source": [
    "#Problem 3: Write a program that will take user input of cost price and selling price and determines whether its a loss or a profit.\n",
    "\n",
    "cp=float(input(\"Enter the cost Price of an Item :\"))\n",
    "sp=float(input(\"Enter the Selling Price of an Item :\"))\n",
    "if(sp > cp):\n",
    "    profit = sp - cp\n",
    "    print(\"Profit :\",profit)\n",
    "elif( cp> sp):\n",
    "\tloss = cp - sp\n",
    "\tprint(\"Loss :\",loss)\n",
    "else:\n",
    "\tprint(\"No Profit No Loss\")"
   ]
  },
  {
   "cell_type": "code",
   "execution_count": 6,
   "id": "9ec46cd7-7c38-4fb8-82bc-d22f4174456c",
   "metadata": {},
   "outputs": [
    {
     "name": "stdin",
     "output_type": "stream",
     "text": [
      "Enter e number 1\n",
      "enter the your cm value 20\n"
     ]
    },
    {
     "name": "stdout",
     "output_type": "stream",
     "text": [
      "ft value is 0.656\n"
     ]
    }
   ],
   "source": [
    "\"\"\"Problem 4: Write a menu-driven program -\n",
    "cm to ft\n",
    "km to miles\n",
    "USD to INR\n",
    "exit\"\"\"\n",
    "\n",
    "\n",
    "menu=int(input(\"Enter e number\"))\n",
    "\n",
    "if menu==1:\n",
    "    cm=float(input(\"enter the your cm value\"))\n",
    "    print(\"ft value is\", 0.03280*cm)\n",
    "\n",
    "elif menu==2: \n",
    "    km=eval(input(\"enter your km value\")) \n",
    "    print(\"mile value is \",0.62 *km)\n",
    "\n",
    "elif menu==3:\n",
    "\n",
    "    usd=eval(input(\"enter your usd value\")) \n",
    "    print(\"INR value is \",83.35*usd)\n",
    "\n",
    "else:\n",
    "\n",
    "    print(\"invalid input\")    "
   ]
  },
  {
   "cell_type": "code",
   "execution_count": 7,
   "id": "716581d3-85e6-49ce-83be-28d479f397bb",
   "metadata": {},
   "outputs": [
    {
     "name": "stdout",
     "output_type": "stream",
     "text": [
      "Fibonacci Series up to 10 terms:\n",
      "[0, 1, 1, 2, 3, 5, 8, 13, 21, 34]\n"
     ]
    }
   ],
   "source": [
    "#Problem 5 - Exercise 12: Display Fibonacci series up to 10 terms.\n",
    "\n",
    "\n",
    "def fibonacci_series(n):\n",
    "    \n",
    "    fib_series = [0, 1]\n",
    "\n",
    "    \n",
    "    for i in range(2, n):\n",
    "        next_term = fib_series[-1] + fib_series[-2]\n",
    "        fib_series.append(next_term)\n",
    "\n",
    "    return fib_series\n",
    "\n",
    "\n",
    "def main():\n",
    "    n = 10\n",
    "    fib_series = fibonacci_series(n)\n",
    "\n",
    "    \n",
    "    print(\"Fibonacci Series up to\", n, \"terms:\")\n",
    "    print(fib_series)\n",
    "\n",
    "\n",
    "if __name__ == \"__main__\":\n",
    "    main()\n"
   ]
  },
  {
   "cell_type": "code",
   "execution_count": 8,
   "id": "25c80a7c-9f1f-4261-b113-de06ba5f2d37",
   "metadata": {},
   "outputs": [
    {
     "name": "stdin",
     "output_type": "stream",
     "text": [
      "enter the number 5\n"
     ]
    },
    {
     "name": "stdout",
     "output_type": "stream",
     "text": [
      "1\n",
      "2\n",
      "6\n",
      "24\n",
      "120\n"
     ]
    }
   ],
   "source": [
    "#Problem 6 - Find the factorial of a given number.\n",
    "n=int(input(\"enter the number\"))\n",
    "fact=1\n",
    "for i in range(1,n+1):\n",
    "    fact=fact*i\n",
    "    print(fact)"
   ]
  },
  {
   "cell_type": "code",
   "execution_count": 9,
   "id": "96a42c7d-c14f-4360-8079-b3c1f91d9a90",
   "metadata": {},
   "outputs": [
    {
     "name": "stdin",
     "output_type": "stream",
     "text": [
      "Enter the first number: 201\n"
     ]
    },
    {
     "name": "stdout",
     "output_type": "stream",
     "text": [
      "The reverse number is = 102\n"
     ]
    }
   ],
   "source": [
    "#Reverse a given integer number.\n",
    "\n",
    "\n",
    "num = input(\"Enter the first number:\")\n",
    "\n",
    "\n",
    "reverse = ''\n",
    "for i in range(len(num), 0, -1):\n",
    "   reverse += num[i-1]\n",
    "\n",
    "\n",
    "print('The reverse number is =', reverse)"
   ]
  },
  {
   "cell_type": "code",
   "execution_count": 10,
   "id": "63dbd6dd-aa79-497c-b1e1-6e84e3a36d40",
   "metadata": {},
   "outputs": [
    {
     "name": "stdin",
     "output_type": "stream",
     "text": [
      "Enter a number:  5\n"
     ]
    },
    {
     "name": "stdout",
     "output_type": "stream",
     "text": [
      "Final result: 10\n"
     ]
    }
   ],
   "source": [
    "\"\"\"Take a user input as integer N. Find out the sum from 1 to N. If any number if divisible by 5, then skip that number. And if the sum\n",
    "is greater than 300, don't need to calculate the sum further more. Print the final result. And don't use for loop to solve this problem.\"\"\"\n",
    "\n",
    "\n",
    "\n",
    "N = int(input(\"Enter a number: \"))\n",
    "\n",
    "sum = 0\n",
    "i = 1\n",
    "\n",
    "while i <= N:\n",
    "  if i % 5 == 0:\n",
    "    i += 1\n",
    "    continue\n",
    "   \n",
    "  sum += i\n",
    "   \n",
    "  if sum > 300:\n",
    "    break\n",
    "   \n",
    "  i += 1\n",
    "\n",
    "print(\"Final result:\", sum)"
   ]
  },
  {
   "cell_type": "code",
   "execution_count": 14,
   "id": "fbfa92b9-9229-4b6b-ad59-2e45e326c6e0",
   "metadata": {},
   "outputs": [
    {
     "data": {
      "text/plain": [
       "'#Write a program that keeps on accepting a number from the user until the user enters Zero. Display the sum and average of all the numbers.'"
      ]
     },
     "execution_count": 14,
     "metadata": {},
     "output_type": "execute_result"
    }
   ],
   "source": [
    "\"\"\"#Write a program that keeps on accepting a number from the user until the user enters Zero. Display the sum and average of all the numbers.\"\"\"\n",
    "\n",
    "\n",
    "        "
   ]
  },
  {
   "cell_type": "code",
   "execution_count": 19,
   "id": "fbaf46e4-14f8-4adc-b701-d46f9a64116f",
   "metadata": {},
   "outputs": [
    {
     "name": "stdout",
     "output_type": "stream",
     "text": [
      "2002\n",
      "2009\n",
      "2016\n",
      "2023\n",
      "2037\n",
      "2044\n",
      "2051\n",
      "2058\n",
      "2072\n",
      "2079\n",
      "2086\n",
      "2093\n",
      "2107\n",
      "2114\n",
      "2121\n",
      "2128\n",
      "2142\n",
      "2149\n",
      "2156\n",
      "2163\n",
      "2177\n",
      "2184\n",
      "2191\n",
      "2198\n",
      "2212\n",
      "2219\n",
      "2226\n",
      "2233\n",
      "2247\n",
      "2254\n",
      "2261\n",
      "2268\n",
      "2282\n",
      "2289\n",
      "2296\n",
      "2303\n",
      "2317\n",
      "2324\n",
      "2331\n",
      "2338\n",
      "2352\n",
      "2359\n",
      "2366\n",
      "2373\n",
      "2387\n",
      "2394\n",
      "2401\n",
      "2408\n",
      "2422\n",
      "2429\n",
      "2436\n",
      "2443\n",
      "2457\n",
      "2464\n",
      "2471\n",
      "2478\n",
      "2492\n",
      "2499\n",
      "2506\n",
      "2513\n",
      "2527\n",
      "2534\n",
      "2541\n",
      "2548\n",
      "2562\n",
      "2569\n",
      "2576\n",
      "2583\n",
      "2597\n",
      "2604\n",
      "2611\n",
      "2618\n",
      "2632\n",
      "2639\n",
      "2646\n",
      "2653\n",
      "2667\n",
      "2674\n",
      "2681\n",
      "2688\n",
      "2702\n",
      "2709\n",
      "2716\n",
      "2723\n",
      "2737\n",
      "2744\n",
      "2751\n",
      "2758\n",
      "2772\n",
      "2779\n",
      "2786\n",
      "2793\n",
      "2807\n",
      "2814\n",
      "2821\n",
      "2828\n",
      "2842\n",
      "2849\n",
      "2856\n",
      "2863\n",
      "2877\n",
      "2884\n",
      "2891\n",
      "2898\n",
      "2912\n",
      "2919\n",
      "2926\n",
      "2933\n",
      "2947\n",
      "2954\n",
      "2961\n",
      "2968\n",
      "2982\n",
      "2989\n",
      "2996\n",
      "3003\n",
      "3017\n",
      "3024\n",
      "3031\n",
      "3038\n",
      "3052\n",
      "3059\n",
      "3066\n",
      "3073\n",
      "3087\n",
      "3094\n",
      "3101\n",
      "3108\n",
      "3122\n",
      "3129\n",
      "3136\n",
      "3143\n",
      "3157\n",
      "3164\n",
      "3171\n",
      "3178\n",
      "3192\n",
      "3199\n"
     ]
    }
   ],
   "source": [
    "\"\"\"Write a program which will find all such numbers which are divisible by 7 but are not a multiple of 5, between 2000 and 3200 (both included). \n",
    "The numbers obtained should be printed in a comma-separated sequence on a single line.\"\"\"\n",
    "\n",
    "\n",
    "for i in range(2000,3201):\n",
    "\n",
    "    if i%7==0 and i%5!=0:\n",
    "        print(i)\n"
   ]
  },
  {
   "cell_type": "code",
   "execution_count": 22,
   "id": "efc99a02-10e9-4f66-b2a0-8335a177b2b6",
   "metadata": {},
   "outputs": [
    {
     "name": "stdout",
     "output_type": "stream",
     "text": [
      "2000,2001,2002,2003,2004,2005,2006,2007,2008,2009,2020,2021,2022,2023,2024,2025,2026,2027,2028,2029,2040,2041,2042,2043,2044,2045,2046,2047,2048,2049,2060,2061,2062,2063,2064,2065,2066,2067,2068,2069,2080,2081,2082,2083,2084,2085,2086,2087,2088,2089,2200,2201,2202,2203,2204,2205,2206,2207,2208,2209,2220,2221,2222,2223,2224,2225,2226,2227,2228,2229,2240,2241,2242,2243,2244,2245,2246,2247,2248,2249,2260,2261,2262,2263,2264,2265,2266,2267,2268,2269,2280,2281,2282,2283,2284,2285,2286,2287,2288,2289,2400,2401,2402,2403,2404,2405,2406,2407,2408,2409,2420,2421,2422,2423,2424,2425,2426,2427,2428,2429,2440,2441,2442,2443,2444,2445,2446,2447,2448,2449,2460,2461,2462,2463,2464,2465,2466,2467,2468,2469,2480,2481,2482,2483,2484,2485,2486,2487,2488,2489,2600,2601,2602,2603,2604,2605,2606,2607,2608,2609,2620,2621,2622,2623,2624,2625,2626,2627,2628,2629,2640,2641,2642,2643,2644,2645,2646,2647,2648,2649,2660,2661,2662,2663,2664,2665,2666,2667,2668,2669,2680,2681,2682,2683,2684,2685,2686,2687,2688,2689,2800,2801,2802,2803,2804,2805,2806,2807,2808,2809,2820,2821,2822,2823,2824,2825,2826,2827,2828,2829,2840,2841,2842,2843,2844,2845,2846,2847,2848,2849,2860,2861,2862,2863,2864,2865,2866,2867,2868,2869,2880,2881,2882,2883,2884,2885,2886,2887,2888,2889\n"
     ]
    }
   ],
   "source": [
    "\"\"\" Write a program, which will find all such numbers between 1000 and 3000 (both included) such that each digit of the number is an even number. \n",
    "The numbers obtained should be printed in a space-separated sequence on a single line.\"\"\"\n",
    "\n",
    "\n",
    "items = []\n",
    "for i in range(1000, 3001):\n",
    "    s = str(i)\n",
    "    if (int(s[0]) % 2 == 0) and (int(s[1]) % 2 == 0) and (int(s[2]) % 2 == 0):\n",
    "            items.append(s)\n",
    "print(\",\".join(items)) \n"
   ]
  },
  {
   "cell_type": "code",
   "execution_count": null,
   "id": "2569b7fc-1ef9-4814-831f-736c06f334be",
   "metadata": {},
   "outputs": [],
   "source": []
  }
 ],
 "metadata": {
  "kernelspec": {
   "display_name": "Python 3 (ipykernel)",
   "language": "python",
   "name": "python3"
  },
  "language_info": {
   "codemirror_mode": {
    "name": "ipython",
    "version": 3
   },
   "file_extension": ".py",
   "mimetype": "text/x-python",
   "name": "python",
   "nbconvert_exporter": "python",
   "pygments_lexer": "ipython3",
   "version": "3.11.7"
  }
 },
 "nbformat": 4,
 "nbformat_minor": 5
}
