{
 "cells": [
  {
   "cell_type": "code",
   "execution_count": 1,
   "id": "1eb7c1e8-1ba8-4a79-8bfb-050994cd446f",
   "metadata": {},
   "outputs": [
    {
     "name": "stdin",
     "output_type": "stream",
     "text": [
      "enter string hejodf\n"
     ]
    },
    {
     "name": "stdout",
     "output_type": "stream",
     "text": [
      "length of string is  5\n"
     ]
    }
   ],
   "source": [
    " #find the length of given string (give by user) without using len() function\n",
    "\n",
    "s=input(\"enter string\")\n",
    "count=0\n",
    "for i in s:\n",
    "    count+=1\n",
    "print(\"length of string is \",count-1)"
   ]
  },
  {
   "cell_type": "code",
   "execution_count": null,
   "id": "533fd16f-cc12-4fca-b524-1b35160dd91f",
   "metadata": {},
   "outputs": [],
   "source": [
    "# exstract user id form give mail i'd \n",
    "# eg if the mail is chetan24jagtap@gmail.com\n",
    "#them user name should be chetan24jagtap@gmail.com\n",
    "\n",
    "s=input(\"enter your gmail\")\n",
    "print((s+\"@gmail.com\"))"
   ]
  },
  {
   "cell_type": "code",
   "execution_count": null,
   "id": "ae00c592-1279-4cdb-9312-dd2f812ae0a2",
   "metadata": {},
   "outputs": [],
   "source": [
    "# exstract user id form give mail i'd \n",
    "# eg if the mail is chetan24jagtap@gmail.com\n",
    "#them user name should be chetan24jagtap@gmail.com\n",
    "\n",
    "\n",
    "id=input(\"enter your gmail\")\n",
    "s=id.index(\"@\")\n",
    "print(id[0:s])"
   ]
  },
  {
   "cell_type": "code",
   "execution_count": null,
   "id": "bfc8a8ae-683e-4fa8-8c02-d9b62fd5fd8b",
   "metadata": {},
   "outputs": [],
   "source": [
    "id=input(\"enter your gmail\")\n",
    "s=id.strip(\"@gmail.com\")\n",
    "print(s)"
   ]
  },
  {
   "cell_type": "code",
   "execution_count": null,
   "id": "4815a485-548d-479b-b4a0-b97fae5e67d6",
   "metadata": {},
   "outputs": [],
   "source": [
    "#count the frequency of particular character in provide string \n",
    "#Eg \"hello how are you\" is the string,\n",
    "#the frequency of \"h\" in this string is 2\n",
    "#without using count function\n",
    "\n",
    "s=input(\"input the string\")\n",
    "term=input(\"what would you like to search\")\n",
    "print(s)\n",
    "c=0\n",
    "for i in s:\n",
    "    if i == term:\n",
    "        c+=1\n",
    "print(\"frequency of your char is \",c)\n",
    "\n"
   ]
  },
  {
   "cell_type": "code",
   "execution_count": null,
   "id": "c47bfa06-788f-499e-ac81-81991ed2655f",
   "metadata": {},
   "outputs": [],
   "source": [
    "#write a program which can remove \n",
    "# a particular character from string \n",
    "\n",
    "a=input(\"enter the string:- \")\n",
    "b=input(\"remove character:- \")\n",
    "result=\" \"\n",
    "for i in s:\n",
    "    if i != term:\n",
    "        result=result+i\n",
    "print(result)"
   ]
  },
  {
   "cell_type": "code",
   "execution_count": null,
   "id": "aa741c83-0a1d-4ea8-b672-7ed7500a19d6",
   "metadata": {},
   "outputs": [],
   "source": [
    "a=int(input(\"enter the number\"))\n",
    "temp=a\n",
    "rev=0\n",
    "while(a>0):\n",
    "    dig=a%10\n",
    "    rev=rev*10+dig\n",
    "    a=a//10\n",
    "if(temp==rev):\n",
    "    print(\"the number is palindrome\")\n",
    "else:\n",
    "    print(\"not a palindrome\")"
   ]
  }
 ],
 "metadata": {
  "kernelspec": {
   "display_name": "Python 3 (ipykernel)",
   "language": "python",
   "name": "python3"
  },
  "language_info": {
   "codemirror_mode": {
    "name": "ipython",
    "version": 3
   },
   "file_extension": ".py",
   "mimetype": "text/x-python",
   "name": "python",
   "nbconvert_exporter": "python",
   "pygments_lexer": "ipython3",
   "version": "3.11.7"
  }
 },
 "nbformat": 4,
 "nbformat_minor": 5
}
