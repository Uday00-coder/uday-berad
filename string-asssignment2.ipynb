{
 "cells": [
  {
   "cell_type": "code",
   "execution_count": 1,
   "id": "38a3f24b-0855-4363-98c9-a3c40af11586",
   "metadata": {},
   "outputs": [
    {
     "name": "stdin",
     "output_type": "stream",
     "text": [
      "enter string hello\n"
     ]
    },
    {
     "name": "stdout",
     "output_type": "stream",
     "text": [
      "length of string is  4\n"
     ]
    }
   ],
   "source": [
    " #find the length of given string (give by user) without using len() function\n",
    "\n",
    "s=input(\"enter string\")\n",
    "count=0\n",
    "for i in s:\n",
    "    count+=1\n",
    "print(\"length of string is \",count-1)\n",
    "\n"
   ]
  },
  {
   "cell_type": "code",
   "execution_count": null,
   "id": "e72a5fe6-2820-45db-8d0c-4fcec010226b",
   "metadata": {},
   "outputs": [],
   "source": [
    "# exstract user id form give mail i'd \n",
    "# eg if the mail is chetan24jagtap@gmail.com\n",
    "#them user name should be chetan24jagtap@gmail.com\n",
    "\n",
    "s=input(\"enter your gmail\")\n",
    "print((s+\"@gmail.com\"))"
   ]
  },
  {
   "cell_type": "code",
   "execution_count": null,
   "id": "9e6faf20-36c3-4a45-8f49-54e37c0e4e03",
   "metadata": {},
   "outputs": [],
   "source": [
    "\"chetan24jagtap@gmail.com\".strip(\"@gmail.com\")\n"
   ]
  },
  {
   "cell_type": "code",
   "execution_count": null,
   "id": "b37e23f6-7c76-4517-af18-b6755414dafe",
   "metadata": {},
   "outputs": [],
   "source": [
    "id=input(\"enter your gmail\")\n",
    "s=id.index(\"@\")\n",
    "print(id[0:s])\n"
   ]
  },
  {
   "cell_type": "code",
   "execution_count": null,
   "id": "c18cbfc7-7d26-4405-8f67-09a738fb6d20",
   "metadata": {},
   "outputs": [],
   "source": [
    "id=input(\"enter your gmail\")\n",
    "s=id.strip(\"@gmail.com\")\n",
    "print(s)\n"
   ]
  },
  {
   "cell_type": "code",
   "execution_count": null,
   "id": "82e382d3-e1d2-4f8d-a270-f0b9d43a67d3",
   "metadata": {},
   "outputs": [],
   "source": [
    "#count the frequency of particular character in provide string \n",
    "#Eg \"hello how are you\" is the string,\n",
    "#the frequency of \"h\" in this string is 2\n",
    "#without using count function\n",
    "\n",
    "s=input(\"input the string\")\n",
    "term=input(\"what would you like to search\")\n",
    "print(s)\n",
    "c=0\n",
    "for i in s:\n",
    "    if i == term:\n",
    "        c+=1\n",
    "print(\"frequency of your char is \",c)\n",
    "\n",
    "\n"
   ]
  },
  {
   "cell_type": "code",
   "execution_count": null,
   "id": "31adaf24-3a62-4819-b783-3e45e93244cc",
   "metadata": {},
   "outputs": [],
   "source": [
    "#write a program which can remove \n",
    "# a particular character from string \n",
    "\n",
    "a=input(\"enter the string:- \")\n",
    "b=input(\"remove character:- \")\n",
    "result=\" \"\n",
    "for i in s:\n",
    "    if i != term:\n",
    "        result=result+i\n",
    "print(result)\n",
    "\n"
   ]
  },
  {
   "cell_type": "code",
   "execution_count": null,
   "id": "6439a421-7d73-4017-ab62-ea9c111d8eff",
   "metadata": {},
   "outputs": [],
   "source": [
    "a=int(input(\"enter the number\"))\n",
    "temp=a\n",
    "rev=0\n",
    "while(a>0):\n",
    "    dig=a%10\n",
    "    rev=rev*10+dig\n",
    "    a=a//10\n",
    "if(temp==rev):\n",
    "    print(\"the number is palindrome\")\n",
    "else:\n",
    "    print(\"not a palindrome\")"
   ]
  },
  {
   "cell_type": "code",
   "execution_count": null,
   "id": "5fc7bf7e-3336-4da2-905f-e6c6f427a3d8",
   "metadata": {},
   "outputs": [],
   "source": []
  }
 ],
 "metadata": {
  "kernelspec": {
   "display_name": "Python 3 (ipykernel)",
   "language": "python",
   "name": "python3"
  },
  "language_info": {
   "codemirror_mode": {
    "name": "ipython",
    "version": 3
   },
   "file_extension": ".py",
   "mimetype": "text/x-python",
   "name": "python",
   "nbconvert_exporter": "python",
   "pygments_lexer": "ipython3",
   "version": "3.11.7"
  }
 },
 "nbformat": 4,
 "nbformat_minor": 5
}
