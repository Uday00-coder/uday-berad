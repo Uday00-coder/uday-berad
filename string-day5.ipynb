{
 "cells": [
  {
   "cell_type": "code",
   "execution_count": 12,
   "id": "38a3f24b-0855-4363-98c9-a3c40af11586",
   "metadata": {},
   "outputs": [
    {
     "name": "stdin",
     "output_type": "stream",
     "text": [
      "enter string abhi\n"
     ]
    },
    {
     "name": "stdout",
     "output_type": "stream",
     "text": [
      "length of string is  3\n"
     ]
    }
   ],
   "source": [
    " #find the length of given string (give by user) without using len() function\n",
    "\n",
    "s=input(\"enter string\")\n",
    "count=0\n",
    "for i in s:\n",
    "    count+=1\n",
    "print(\"length of string is \",count-1)\n",
    "\n"
   ]
  },
  {
   "cell_type": "code",
   "execution_count": 24,
   "id": "e72a5fe6-2820-45db-8d0c-4fcec010226b",
   "metadata": {},
   "outputs": [
    {
     "name": "stdin",
     "output_type": "stream",
     "text": [
      "enter your gmail abhi13\n"
     ]
    },
    {
     "name": "stdout",
     "output_type": "stream",
     "text": [
      "abhi13@gmail.com\n"
     ]
    }
   ],
   "source": [
    "# exstract user id form give mail i'd \n",
    "# eg if the mail is chetan24jagtap@gmail.com\n",
    "#them user name should be chetan24jagtap@gmail.com\n",
    "\n",
    "s=input(\"enter your gmail\")\n",
    "print((s+\"@gmail.com\"))"
   ]
  },
  {
   "cell_type": "code",
   "execution_count": 26,
   "id": "9e6faf20-36c3-4a45-8f49-54e37c0e4e03",
   "metadata": {},
   "outputs": [
    {
     "data": {
      "text/plain": [
       "'hetan24jagtap'"
      ]
     },
     "execution_count": 26,
     "metadata": {},
     "output_type": "execute_result"
    }
   ],
   "source": [
    "\"chetan24jagtap@gmail.com\".strip(\"@gmail.com\")\n"
   ]
  },
  {
   "cell_type": "code",
   "execution_count": 28,
   "id": "b37e23f6-7c76-4517-af18-b6755414dafe",
   "metadata": {},
   "outputs": [
    {
     "name": "stdin",
     "output_type": "stream",
     "text": [
      "enter your gmail chetan24jagtap@gmail.com\n"
     ]
    },
    {
     "name": "stdout",
     "output_type": "stream",
     "text": [
      "chetan24jagtap\n"
     ]
    }
   ],
   "source": [
    "id=input(\"enter your gmail\")\n",
    "s=id.index(\"@\")\n",
    "print(id[0:s])\n"
   ]
  },
  {
   "cell_type": "code",
   "execution_count": 31,
   "id": "c18cbfc7-7d26-4405-8f67-09a738fb6d20",
   "metadata": {},
   "outputs": [
    {
     "name": "stdin",
     "output_type": "stream",
     "text": [
      "enter your gmail chetan24jagtap@gmail.com\n"
     ]
    },
    {
     "name": "stdout",
     "output_type": "stream",
     "text": [
      "hetan24jagtap\n"
     ]
    }
   ],
   "source": [
    "id=input(\"enter your gmail\")\n",
    "s=id.strip(\"@gmail.com\")\n",
    "print(s)\n"
   ]
  },
  {
   "cell_type": "code",
   "execution_count": 51,
   "id": "82e382d3-e1d2-4f8d-a270-f0b9d43a67d3",
   "metadata": {},
   "outputs": [
    {
     "name": "stdin",
     "output_type": "stream",
     "text": [
      "input the string hello how are you\n",
      "what would you likek to search h\n"
     ]
    },
    {
     "name": "stdout",
     "output_type": "stream",
     "text": [
      "hello how are you\n",
      "frequency of your char is  2\n"
     ]
    }
   ],
   "source": [
    "#count the frequency of particular character in provide string \n",
    "#Eg \"hello how are you\" is the string,\n",
    "#the frequency of \"h\" in this string is 2\n",
    "#without using count function\n",
    "\n",
    "s=input(\"input the string\")\n",
    "term=input(\"what would you likek to search\")\n",
    "print(s)\n",
    "c=0\n",
    "for i in s:\n",
    "    if i == term:\n",
    "        c+=1\n",
    "print(\"frequency of your char is \",c)\n",
    "\n",
    "\n"
   ]
  },
  {
   "cell_type": "code",
   "execution_count": 67,
   "id": "31adaf24-3a62-4819-b783-3e45e93244cc",
   "metadata": {},
   "outputs": [
    {
     "name": "stdin",
     "output_type": "stream",
     "text": [
      "enter the string:-  hello houh hg hf\n",
      "remove character:-  hf\n"
     ]
    },
    {
     "name": "stdout",
     "output_type": "stream",
     "text": [
      " ello ow are you\n"
     ]
    }
   ],
   "source": [
    "#write a program which can remove \n",
    "# a particular character from string \n",
    "\n",
    "a=input(\"enter the string:- \")\n",
    "b=input(\"remove character:- \")\n",
    "result=\" \"\n",
    "for i in s:\n",
    "    if i != term:\n",
    "        result=result+i\n",
    "print(result)\n",
    "\n"
   ]
  },
  {
   "cell_type": "code",
   "execution_count": null,
   "id": "6439a421-7d73-4017-ab62-ea9c111d8eff",
   "metadata": {},
   "outputs": [],
   "source": []
  }
 ],
 "metadata": {
  "kernelspec": {
   "display_name": "Python 3 (ipykernel)",
   "language": "python",
   "name": "python3"
  },
  "language_info": {
   "codemirror_mode": {
    "name": "ipython",
    "version": 3
   },
   "file_extension": ".py",
   "mimetype": "text/x-python",
   "name": "python",
   "nbconvert_exporter": "python",
   "pygments_lexer": "ipython3",
   "version": "3.11.7"
  }
 },
 "nbformat": 4,
 "nbformat_minor": 5
}
